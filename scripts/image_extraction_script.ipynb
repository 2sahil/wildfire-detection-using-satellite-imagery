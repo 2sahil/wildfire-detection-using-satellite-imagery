{
  "nbformat": 4,
  "nbformat_minor": 0,
  "metadata": {
    "colab": {
      "provenance": [],
      "include_colab_link": true
    },
    "kernelspec": {
      "name": "python3",
      "display_name": "Python 3"
    },
    "language_info": {
      "name": "python"
    }
  },
  "cells": [
    {
      "cell_type": "markdown",
      "metadata": {
        "id": "view-in-github",
        "colab_type": "text"
      },
      "source": [
        "<a href=\"https://colab.research.google.com/github/gunelaliyevaa/wildfire-detection-using-satellite-imagery/blob/main/scripts/image_extraction_script.ipynb\" target=\"_parent\"><img src=\"https://colab.research.google.com/assets/colab-badge.svg\" alt=\"Open In Colab\"/></a>"
      ]
    },
    {
      "cell_type": "markdown",
      "source": [
        "# Fire Event Capture and Visualization using Sentinel-2 Imagery\n",
        "\n",
        "This notebook processes wildfire data using Sentinel-2 imagery. It masks clouds, generates rectangular areas around fire points(~1km), and creates URLs for visualized images.\n",
        "\n",
        "## Key Functions\n",
        "\n",
        "- **`earth_engine_init(project_id)`**: Authenticates and initializes the Earth Engine.\n",
        "- **`mask_s2_clouds(image)`**: Masks clouds in Sentinel-2 images.\n",
        "- **`load_fire_data(csv_path)`**: Loads fire data from a CSV file.\n",
        "- **`fetch_image_collection(longitude, latitude, start_date, end_date)`**: Fetches an image collection for a fire event.\n",
        "- **`generate_image_url(collection, rectangle)`**: Generates a visualization URL for a clipped image.\n",
        "- **`process_fire_events(fire_df)`**: Processes fire data and retrieves image URLs.\n",
        "- **`download_images(img_urls)`**: Downloads images from generated URLs.\n",
        "\n",
        "## Usage\n",
        "\n",
        "1. Set the project ID and CSV paths in the `main()` function.\n",
        "2. Run `main()` to process the data and download images.\n"
      ],
      "metadata": {
        "id": "AMvUV8USGFJH"
      }
    },
    {
      "cell_type": "code",
      "source": [
        "from google.colab import drive\n",
        "drive.mount('/content/drive')"
      ],
      "metadata": {
        "id": "nIUIWkosc1xq",
        "outputId": "dfbd9a8c-2cfd-4ca8-88f0-17aab146f344",
        "colab": {
          "base_uri": "https://localhost:8080/"
        }
      },
      "execution_count": 1,
      "outputs": [
        {
          "output_type": "stream",
          "name": "stdout",
          "text": [
            "Mounted at /content/drive\n"
          ]
        }
      ]
    },
    {
      "cell_type": "code",
      "source": [
        "import os\n",
        "import ee\n",
        "import pandas as pd\n",
        "import requests\n",
        "from concurrent.futures import ThreadPoolExecutor, as_completed\n",
        "\n",
        "\n",
        "# Authenticate and initialize Earth Engine\n",
        "def earth_engine_init(project_id):\n",
        "    ee.Authenticate()\n",
        "    ee.Initialize(project = project_id)\n",
        "\n",
        "# Function to mask clouds using the Sentinel-2 QA60 band\n",
        "def mask_s2_clouds(image):\n",
        "    qa = image.select('QA60')\n",
        "    cloud_bit_mask = 1 << 10\n",
        "    cirrus_bit_mask = 1 << 11\n",
        "    mask = qa.bitwiseAnd(cloud_bit_mask).eq(0).And(qa.bitwiseAnd(cirrus_bit_mask).eq(0))\n",
        "    return image.updateMask(mask).divide(10000)\n",
        "\n",
        "# Load the CSV file containing fire data\n",
        "def load_fire_data(csv_path):\n",
        "    return pd.read_csv(csv_path)\n",
        "\n",
        "# Generate a rectangular area around fire points\n",
        "def create_rectangle(longitude, latitude, buffer=0.02):\n",
        "    return ee.Geometry.Rectangle([longitude - buffer, latitude - buffer, longitude + buffer, latitude + buffer])\n",
        "\n",
        "# Get image collection for a given fire event\n",
        "def fetch_image_collection(longitude, latitude, start_date, end_date):\n",
        "    rectangle = create_rectangle(longitude, latitude)\n",
        "    collection = (ee.ImageCollection('COPERNICUS/S2_SR_HARMONIZED')\n",
        "                  .filterBounds(rectangle)\n",
        "                  .filterDate(start_date, end_date)\n",
        "                  .filter(ee.Filter.lt('CLOUDY_PIXEL_PERCENTAGE', 20))\n",
        "                  .map(mask_s2_clouds))\n",
        "\n",
        "    return collection, rectangle\n",
        "\n",
        "# Generate and download an image for a fire event\n",
        "def download_image_from_event(row, output_dir):\n",
        "    latitude, longitude = row['latitude'], row['longitude']\n",
        "    start_date = pd.to_datetime(row['acq_date']).strftime('%Y-%m-%d')\n",
        "    end_date = (pd.to_datetime(start_date) + pd.DateOffset(days=1)).strftime('%Y-%m-%d')\n",
        "\n",
        "\n",
        "    collection, rectangle = fetch_image_collection(longitude, latitude, start_date, end_date)\n",
        "    if collection.size().getInfo() > 0:\n",
        "\n",
        "\n",
        "        # Select RGB bands and clip the image\n",
        "        image = collection.median().select(['B4', 'B3', 'B2']).clip(rectangle)\n",
        "\n",
        "        # Generate download URL\n",
        "        url = image.getThumbURL({\n",
        "            'min': 0,\n",
        "            'max': 0.5,\n",
        "            'dimensions': 512,\n",
        "            'region': rectangle,\n",
        "            'format': 'png'\n",
        "        })\n",
        "\n",
        "        # Download and save image\n",
        "        try:\n",
        "            response = requests.get(url, stream=True)\n",
        "            response.raise_for_status()\n",
        "            filename = os.path.join(output_dir, f\"{latitude}_{longitude}.png\")\n",
        "            with open(filename, 'wb') as f:\n",
        "                for chunk in response.iter_content(1024):\n",
        "                    f.write(chunk)\n",
        "            print(f\"Downloaded: {filename}\")\n",
        "        except Exception as e:\n",
        "            print(f\"Failed to download image for {latitude}, {longitude}: {e}\")\n",
        "\n",
        "# Process fire events concurrently\n",
        "def process_fire_events_concurrently(fire_df, output_dir):\n",
        "    os.makedirs(output_dir, exist_ok=True)\n",
        "    with ThreadPoolExecutor(max_workers=5) as executor:\n",
        "        futures = [executor.submit(download_image_from_event, row, output_dir) for _, row in fire_df.iterrows()]\n",
        "        for future in as_completed(futures):\n",
        "            future.result()\n",
        "\n",
        "def main():\n",
        "    project_id = 'wildfire-detection-ml'\n",
        "    csv_path = '/content/drive/MyDrive/Copy_2023_fire_archive_SV-C2_539026.csv'\n",
        "    output_folder = 'SUOMI_VIIRS_IMAGES_2023'\n",
        "\n",
        "    earth_engine_init(project_id)\n",
        "    fire_data = load_fire_data(csv_path)\n",
        "\n",
        "    # Process and download images concurrently\n",
        "    process_fire_events_concurrently(fire_data, output_folder)\n",
        "\n",
        "\n",
        "main()"
      ],
      "metadata": {
        "id": "kayr9wBsmMGs"
      },
      "execution_count": null,
      "outputs": []
    },
    {
      "cell_type": "markdown",
      "source": [
        "\n",
        "The command `!zip -r my_folder.zip my_folder` creates a compressed ZIP archive of the folder `my_folder`. This will be helpful for downloading the extracted images to your local machine in a single file."
      ],
      "metadata": {
        "id": "Xue9wm0KL5Fn"
      }
    },
    {
      "cell_type": "code",
      "source": [
        "!zip -r MODIS_Images_2024.zip MODIS_Images_2024"
      ],
      "metadata": {
        "id": "4-2Jlm7YFpqk"
      },
      "execution_count": null,
      "outputs": []
    },
    {
      "cell_type": "code",
      "source": [
        "import shutil\n",
        "\n",
        "# Specify the folder to remove\n",
        "folder_to_remove = 'SUOMI_VIIRS_IMAGES_2023'\n",
        "\n",
        "# Remove the folder and its contents\n",
        "shutil.rmtree(folder_to_remove)\n",
        "print(f\"Folder '{folder_to_remove}' and its contents have been removed.\")"
      ],
      "metadata": {
        "id": "vFO8UDvRqTQm",
        "outputId": "c16673e9-4eea-4a1d-d95c-398d096ffebf",
        "colab": {
          "base_uri": "https://localhost:8080/"
        }
      },
      "execution_count": 4,
      "outputs": [
        {
          "output_type": "stream",
          "name": "stdout",
          "text": [
            "Folder 'SUOMI_VIIRS_IMAGES_2023' and its contents have been removed.\n"
          ]
        }
      ]
    }
  ]
}