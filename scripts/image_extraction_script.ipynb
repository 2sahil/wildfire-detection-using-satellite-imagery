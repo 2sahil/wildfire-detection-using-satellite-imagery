{
  "nbformat": 4,
  "nbformat_minor": 0,
  "metadata": {
    "colab": {
      "provenance": [],
      "include_colab_link": true
    },
    "kernelspec": {
      "name": "python3",
      "display_name": "Python 3"
    },
    "language_info": {
      "name": "python"
    }
  },
  "cells": [
    {
      "cell_type": "markdown",
      "metadata": {
        "id": "view-in-github",
        "colab_type": "text"
      },
      "source": [
        "<a href=\"https://colab.research.google.com/github/gunelaliyevaa/wildfire-detection-using-satellite-imagery/blob/main/scripts/image_extraction_script.ipynb\" target=\"_parent\"><img src=\"https://colab.research.google.com/assets/colab-badge.svg\" alt=\"Open In Colab\"/></a>"
      ]
    },
    {
      "cell_type": "markdown",
      "source": [
        "# Fire Event Capture and Visualization using Sentinel-2 Imagery\n",
        "\n",
        "This code authenticates and initializes Google Earth Engine (GEE) with a specified project, then processes wildfire locations to generate visualization URLs from Sentinel-2 satellite imagery.\n",
        "\n",
        "The code performs the following steps:\n",
        "\n",
        "1. **Data Loading**: Reads fire data from a CSV file with columns `LATITUDE`, `LONGITUDE`, and `ACQ_DATE`.\n",
        "2. **Iterates Through Fire Events**: Treats each row in the CSV as a wildfire event, creating a ~1 km rectangular area of interest around each location.\n",
        "3. **Image Processing**:\n",
        "   - Fetches Sentinel-2 images for each area within a 1-day range of the event date.\n",
        "   - Applies cloud and cirrus masking using Sentinel-2’s `QA60` band, filtering images with less than 20% cloud cover.\n",
        "   - Selects RGB bands (Red, Green, Blue) and creates a median composite of available images for visualization.\n",
        "4. **Output Generation**: Generates and stores a list of dictionaries, each containing:\n",
        "   - `latitude` and `longitude`: Coordinates of the fire location.\n",
        "   - `url`: A thumbnail URL for visualizing the area around the wildfire event."
      ],
      "metadata": {
        "id": "AMvUV8USGFJH"
      }
    },
    {
      "cell_type": "code",
      "source": [
        "import ee\n",
        "import pandas as pd\n",
        "\n",
        "# Authenticate and initialize Earth Engine\n",
        "ee.Authenticate()\n",
        "project_id = 'sdp-wildfire-detection-aze'\n",
        "ee.Initialize(project=project_id)\n",
        "\n",
        "# Function to mask clouds using the Sentinel-2 QA60 band\n",
        "def maskS2clouds(image):\n",
        "    qa = image.select('QA60')\n",
        "    cloudBitMask = 1 << 10\n",
        "    cirrusBitMask = 1 << 11\n",
        "    mask = qa.bitwiseAnd(cloudBitMask).eq(0).And(qa.bitwiseAnd(cirrusBitMask).eq(0))\n",
        "    return image.updateMask(mask).divide(10000)\n",
        "\n",
        "# Load the CSV file (modify the path to your actual CSV file)\n",
        "csv_path = '/content/drive/MyDrive/fire_nrt_J1V-C2_519849.csv'\n",
        "df = pd.read_csv(csv_path)\n",
        "\n",
        "image_urls =[]\n",
        "\n",
        "# Assuming your CSV file has columns: 'LATITUDE', 'LONGITUDE', 'ACQ_DATE'\n",
        "for index, row in df.iterrows():\n",
        "    latitude = row['LATITUDE']\n",
        "    longitude = row['LONGITUDE']\n",
        "\n",
        "    # Convert acquisition date to 'YYYY-MM-DD' format\n",
        "    start_date = pd.to_datetime(row['ACQ_DATE']).strftime('%Y-%m-%d')\n",
        "    end_date = (pd.to_datetime(start_date) + pd.DateOffset(days=1)).strftime('%Y-%m-%d')\n",
        "\n",
        "    # Define the location of the fire event\n",
        "    point = ee.Geometry.Point([longitude, latitude])\n",
        "    # Define the bounds for the rectangular area\n",
        "    buffer_size = 0.015  # Approx 1 km in degrees (modify as needed)\n",
        "    coords = [\n",
        "        [longitude - buffer_size, latitude - buffer_size],  # Bottom-left\n",
        "        [longitude + buffer_size, latitude - buffer_size],  # Bottom-right\n",
        "        [longitude + buffer_size, latitude + buffer_size],  # Top-right\n",
        "        [longitude - buffer_size, latitude + buffer_size],  # Top-left\n",
        "        [longitude - buffer_size, latitude - buffer_size]   # Closing the rectangle\n",
        "    ]\n",
        "    rectangle = ee.Geometry.Polygon(coords)\n",
        "\n",
        "    # Load Sentinel-2 harmonized collection and apply cloud mask\n",
        "    collection = (ee.ImageCollection('COPERNICUS/S2_SR_HARMONIZED')\n",
        "                  .filterBounds(rectangle)\n",
        "                  .filterDate(start_date, end_date)\n",
        "                  .filter(ee.Filter.lt('CLOUDY_PIXEL_PERCENTAGE', 20))\n",
        "                  .map(maskS2clouds)\n",
        "                  .limit(40))\n",
        "\n",
        "    # Check the size of the collection\n",
        "    collection_size = collection.size().getInfo()\n",
        "    print(f\"Collection size for ({latitude}, {longitude}): {collection_size}\")\n",
        "\n",
        "    if collection_size > 0:\n",
        "        # Select RGB bands (B4 = Red, B3 = Green, B2 = Blue)\n",
        "        image = collection.median().select(['B4', 'B3', 'B2'])\n",
        "\n",
        "        # Clip the image to the specific polygon (area of interest)\n",
        "        clipped_image = image.clip(rectangle)\n",
        "\n",
        "        # Generate a visualization URL for the clipped image\n",
        "        url = clipped_image.getThumbURL({\n",
        "            'min': 0, 'max': 0.5,  # Adjust the min/max for better visualization\n",
        "            'dimensions': 512,\n",
        "            'region': rectangle,\n",
        "            'format': 'png'\n",
        "        })\n",
        "        image_urls.append({'latitude': latitude, 'longitude': longitude, 'url': url})  # Appending a dictionary\n"
      ],
      "metadata": {
        "id": "XKXc4ju8NLqg"
      },
      "execution_count": null,
      "outputs": []
    },
    {
      "cell_type": "code",
      "source": [
        "image_urls"
      ],
      "metadata": {
        "id": "4-2Jlm7YFpqk"
      },
      "execution_count": null,
      "outputs": []
    },
    {
      "cell_type": "markdown",
      "source": [
        "### Saving Image URLs to a CSV File (Optional)\n",
        "\n",
        "This code converts the list of generated image URLs to a pandas DataFrame and saves it to a CSV file.\n"
      ],
      "metadata": {
        "id": "YL7PWUi9FpSJ"
      }
    },
    {
      "cell_type": "code",
      "source": [
        "# Convert the list of image URLs to a pandas DataFrame\n",
        "image_urls_df = pd.DataFrame(image_urls)\n",
        "\n",
        "# Save the DataFrame to a CSV file\n",
        "output_csv_path = '/content/image_urls.csv'  # Modify this path as needed\n",
        "image_urls_df.to_csv(output_csv_path, index=False)\n",
        "\n",
        "print(f\"Image URLs saved to {output_csv_path}\")"
      ],
      "metadata": {
        "id": "_urGDx95LC8B"
      },
      "execution_count": null,
      "outputs": []
    }
  ]
}