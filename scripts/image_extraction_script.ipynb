{
  "nbformat": 4,
  "nbformat_minor": 0,
  "metadata": {
    "colab": {
      "provenance": [],
      "include_colab_link": true
    },
    "kernelspec": {
      "name": "python3",
      "display_name": "Python 3"
    },
    "language_info": {
      "name": "python"
    }
  },
  "cells": [
    {
      "cell_type": "markdown",
      "metadata": {
        "id": "view-in-github",
        "colab_type": "text"
      },
      "source": [
        "<a href=\"https://colab.research.google.com/github/gunelaliyevaa/wildfire-detection-using-satellite-imagery/blob/main/scripts/image_extraction_script.ipynb\" target=\"_parent\"><img src=\"https://colab.research.google.com/assets/colab-badge.svg\" alt=\"Open In Colab\"/></a>"
      ]
    },
    {
      "cell_type": "markdown",
      "source": [
        "# Fire Event Capture and Visualization using Sentinel-2 Imagery\n",
        "\n",
        "This notebook processes wildfire data using Sentinel-2 imagery. It masks clouds, generates rectangular areas around fire points(~1km), and creates URLs for visualized images.\n",
        "\n",
        "## Key Functions\n",
        "\n",
        "- **`earth_engine_init(project_id)`**: Authenticates and initializes the Earth Engine.\n",
        "- **`mask_s2_clouds(image)`**: Masks clouds in Sentinel-2 images.\n",
        "- **`load_fire_data(csv_path)`**: Loads fire data from a CSV file.\n",
        "- **`fetch_image_collection(longitude, latitude, start_date, end_date)`**: Fetches an image collection for a fire event.\n",
        "- **`generate_image_url(collection, rectangle)`**: Generates a visualization URL for a clipped image.\n",
        "- **`process_fire_events(fire_df)`**: Processes fire data and retrieves image URLs.\n",
        "- **`download_images(img_urls)`**: Downloads images from generated URLs.\n",
        "\n",
        "## Usage\n",
        "\n",
        "1. Set the project ID and CSV paths in the `main()` function.\n",
        "2. Run `main()` to process the data and download images.\n"
      ],
      "metadata": {
        "id": "AMvUV8USGFJH"
      }
    },
    {
      "cell_type": "code",
      "source": [
        "import ee\n",
        "import pandas as pd\n",
        "\n",
        "# Authenticate and initialize Earth Engine\n",
        "def earth_engine_init(project_id):\n",
        "    ee.Authenticate()\n",
        "    ee.Initialize(project=project_id)\n",
        "\n",
        "# Function to mask clouds using the Sentinel-2 QA60 band\n",
        "def mask_s2_clouds(image):\n",
        "    qa = image.select('QA60')\n",
        "    cloud_bit_mask = 1 << 10\n",
        "    cirrus_bit_mask = 1 << 11\n",
        "    mask = qa.bitwiseAnd(cloud_bit_mask).eq(0).And(qa.bitwiseAnd(cirrus_bit_mask).eq(0))\n",
        "    return image.updateMask(mask).divide(10000)\n",
        "\n",
        "# Load the CSV file containing fire data\n",
        "def load_fire_data(csv_path):\n",
        "    return pd.read_csv(csv_path)\n",
        "\n",
        "# Generate a rectangular area around fire points\n",
        "def create_rectangle(longitude, latitude, buffer_size=0.015):\n",
        "    coords = [\n",
        "        [longitude - buffer_size, latitude - buffer_size],  # Bottom-left\n",
        "        [longitude + buffer_size, latitude - buffer_size],  # Bottom-right\n",
        "        [longitude + buffer_size, latitude + buffer_size],  # Top-right\n",
        "        [longitude - buffer_size, latitude + buffer_size],  # Top-left\n",
        "        [longitude - buffer_size, latitude - buffer_size]   # Closing the rectangle\n",
        "    ]\n",
        "    return ee.Geometry.Polygon(coords)\n",
        "\n",
        "# Get image collection for a given fire event\n",
        "def fetch_image_collection(longitude, latitude, start_date, end_date):\n",
        "    rectangle = create_rectangle(longitude, latitude)\n",
        "    collection = (ee.ImageCollection('COPERNICUS/S2_SR_HARMONIZED')\n",
        "                  .filterBounds(rectangle)\n",
        "                  .filterDate(start_date, end_date)\n",
        "                  .filter(ee.Filter.lt('CLOUDY_PIXEL_PERCENTAGE', 20))\n",
        "                  .map(mask_s2_clouds)\n",
        "                  .limit(40))\n",
        "    return collection, rectangle\n",
        "\n",
        "# Generate a URL for the clipped image\n",
        "def generate_image_url(collection, rectangle):\n",
        "    if collection.size().getInfo() > 0:\n",
        "        # Select RGB bands (B4 = Red, B3 = Green, B2 = Blue)\n",
        "        image = collection.median().select(['B4', 'B3', 'B2'])\n",
        "\n",
        "        # Clip the image to the specific polygon (area of interest)\n",
        "        clipped_image = image.clip(rectangle)\n",
        "\n",
        "        # Generate a visualization URL for the clipped image\n",
        "        url = clipped_image.getThumbURL({\n",
        "            'min': 0, 'max': 0.5,  # Adjust the min/max for better visualization\n",
        "            'dimensions': 512,\n",
        "            'region': rectangle,\n",
        "            'format': 'png'\n",
        "        })\n",
        "        return url\n",
        "    return None\n",
        "\n",
        "# Process each fire event and save image URLs\n",
        "def process_fire_events(fire_df):\n",
        "    print(\"Processing Fire Data...\")\n",
        "    image_urls = []\n",
        "\n",
        "    for index, row in fire_df.iterrows():\n",
        "        latitude = row['LATITUDE']\n",
        "        longitude = row['LONGITUDE']\n",
        "\n",
        "        # Convert acquisition date to 'YYYY-MM-DD' format\n",
        "        start_date = pd.to_datetime(row['ACQ_DATE']).strftime('%Y-%m-%d')\n",
        "        end_date = (pd.to_datetime(start_date) + pd.DateOffset(days=1)).strftime('%Y-%m-%d')\n",
        "\n",
        "        # Prepare the image collection and rectangle\n",
        "        collection, rectangle = fetch_image_collection(longitude, latitude, start_date, end_date)\n",
        "\n",
        "        # Generate URL for the clipped image\n",
        "        url = generate_image_url(collection, rectangle)\n",
        "\n",
        "        if url:\n",
        "            image_urls.append({'latitude': latitude, 'longitude': longitude, 'url': url})\n",
        "\n",
        "    print(\"Fire Data Processing Complete.\")\n",
        "    return image_urls\n",
        "\n",
        "# Save image URLs to a CSV file\n",
        "def save_to_csv(image_urls, output_csv_path):\n",
        "    # Convert the list of image URLs to a pandas DataFrame\n",
        "    image_urls_df = pd.DataFrame(image_urls)\n",
        "\n",
        "    # Save the DataFrame to a CSV file\n",
        "    image_urls_df.to_csv(output_csv_path, index=False)\n",
        "    print(f\"Image URLs saved to {output_csv_path}\")\n",
        "\n",
        "# Function to download and save images\n",
        "def download_images(img_urls):\n",
        "    for img in img_urls:\n",
        "        try:\n",
        "            response = requests.get(img['url'], stream=True)\n",
        "            response.raise_for_status()  # Check for HTTP errors\n",
        "\n",
        "            # Generate a filename based on latitude and longitude\n",
        "            filename = f\"downloaded_images/image_{img['latitude']}_{img['longitude']}.png\"\n",
        "\n",
        "            # Save the image\n",
        "            with open(filename, 'wb') as f:\n",
        "                f.write(response.content)\n",
        "            print(f\"Downloaded: {filename}\")\n",
        "        except Exception as e:\n",
        "            print(f\"Failed to download {img['url']}: {e}\")\n",
        "\n",
        "\n",
        "def main():\n",
        "    # Modify as needed\n",
        "    project_id = 'sdp-wildfire-detection-aze'\n",
        "    csv_path = '/content/drive/MyDrive/fire_archive_M-C61_519848.csv'\n",
        "    output_csv_path = '/content/image_urls.csv'\n",
        "\n",
        "    os.makedirs('downloaded_images', exist_ok=True)\n",
        "\n",
        "    earth_engine_init(project_id)\n",
        "    fire_data = load_fire_data(csv_path)\n",
        "\n",
        "    image_urls = process_fire_events(fire_data)\n",
        "\n",
        "    download_images(image_urls)\n",
        "\n",
        "main()"
      ],
      "metadata": {
        "id": "XKXc4ju8NLqg"
      },
      "execution_count": null,
      "outputs": []
    },
    {
      "cell_type": "markdown",
      "source": [
        "\n",
        "The command `!zip -r my_folder.zip my_folder` creates a compressed ZIP archive of the folder `my_folder`. This will be helpful for downloading the extracted images to your local machine in a single file."
      ],
      "metadata": {
        "id": "Xue9wm0KL5Fn"
      }
    },
    {
      "cell_type": "code",
      "source": [
        "!zip -r my_folder.zip my_folder"
      ],
      "metadata": {
        "id": "4-2Jlm7YFpqk"
      },
      "execution_count": null,
      "outputs": []
    }
  ]
}